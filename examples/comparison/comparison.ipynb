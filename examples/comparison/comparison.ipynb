{
 "cells": [
  {
   "cell_type": "markdown",
   "metadata": {},
   "source": [
    "## Install MMDetection"
   ]
  },
  {
   "cell_type": "markdown",
   "metadata": {},
   "source": [
    "<https://mmdetection.readthedocs.io/en/latest/get_started.html>"
   ]
  },
  {
   "cell_type": "markdown",
   "metadata": {},
   "source": [
    "## Download COCO VAL"
   ]
  },
  {
   "cell_type": "code",
   "execution_count": null,
   "metadata": {},
   "outputs": [],
   "source": [
    "!wget -P COCO/DIR/ http://images.cocodataset.org/annotations/annotations_trainval2017.zip\n",
    "!wget -P COCO/DIR/ http://images.cocodataset.org/zips/val2017.zip"
   ]
  },
  {
   "cell_type": "markdown",
   "metadata": {},
   "source": [
    "## Unzip COCO VAL"
   ]
  },
  {
   "cell_type": "code",
   "execution_count": null,
   "metadata": {},
   "outputs": [],
   "source": [
    "!unzip -qq COCO/DIR/annotations_trainval2017.zip -d COCO/DIR/"
   ]
  },
  {
   "cell_type": "code",
   "execution_count": null,
   "metadata": {},
   "outputs": [],
   "source": [
    "!unzip -qq COCO/DIR/val2017.zip -d COCO/DIR/"
   ]
  },
  {
   "cell_type": "markdown",
   "metadata": {},
   "source": [
    "## Install MMEVAL"
   ]
  },
  {
   "cell_type": "code",
   "execution_count": null,
   "metadata": {},
   "outputs": [],
   "source": [
    "!pip3 install --quiet --upgrade mmeval==0.2.1"
   ]
  },
  {
   "cell_type": "markdown",
   "metadata": {},
   "source": [
    "## Download model"
   ]
  },
  {
   "cell_type": "code",
   "execution_count": 1,
   "metadata": {},
   "outputs": [
    {
     "name": "stdout",
     "output_type": "stream",
     "text": [
      "config_file='/home/mixaill76/.local/lib/python3.10/site-packages/mmdet/.mim/configs/rtmdet/rtmdet-ins_tiny_8xb32-300e_coco.py'\n",
      "model_file='https://download.openmmlab.com/mmdetection/v3.0/rtmdet/rtmdet-ins_tiny_8xb32-300e_coco/rtmdet-ins_tiny_8xb32-300e_coco_20221130_151727-ec670f7e.pth'\n",
      "--2023-12-05 15:22:50--  https://download.openmmlab.com/mmdetection/v3.0/rtmdet/rtmdet-ins_tiny_8xb32-300e_coco/rtmdet-ins_tiny_8xb32-300e_coco_20221130_151727-ec670f7e.pth\n",
      "Resolving download.openmmlab.com (download.openmmlab.com)... 47.246.2.173, 47.246.2.213, 47.246.2.179, ...\n",
      "Connecting to download.openmmlab.com (download.openmmlab.com)|47.246.2.173|:443... connected.\n",
      "HTTP request sent, awaiting response... 200 OK\n",
      "Length: 22757492 (22M) [application/octet-stream]\n",
      "Saving to: ‘model/rtmdet-ins_tiny_8xb32-300e_coco_20221130_151727-ec670f7e.pth’\n",
      "\n",
      "rtmdet-ins_tiny_8xb 100%[===================>]  21.70M  39.3MB/s    in 0.6s    \n",
      "\n",
      "2023-12-05 15:22:51 (39.3 MB/s) - ‘model/rtmdet-ins_tiny_8xb32-300e_coco_20221130_151727-ec670f7e.pth’ saved [22757492/22757492]\n",
      "\n",
      "total 22M\n",
      "drwxrwxrwx 2 mixaill76 mixaill76 4.0K Dec  5 15:22 .\n",
      "drwxr-xr-x 5 mixaill76 mixaill76 4.0K Dec  5 15:22 ..\n",
      "-rw-r--r-- 1 mixaill76 mixaill76  16K Dec  5 15:22 rtmdet-ins_tiny_8xb32-300e_coco.py\n",
      "-rw-r--r-- 1 mixaill76 mixaill76  22M Dec 19  2022 rtmdet-ins_tiny_8xb32-300e_coco_20221130_151727-ec670f7e.pth\n"
     ]
    }
   ],
   "source": [
    "import mmdet\n",
    "import mmengine\n",
    "import os\n",
    "import os.path as osp\n",
    "\n",
    "config_dir = osp.dirname(mmdet.__file__)\n",
    "sub_config = \"configs/rtmdet/rtmdet-ins_tiny_8xb32-300e_coco.py\"\n",
    "config_file = osp.join(config_dir, \".mim\", sub_config)\n",
    "cfg = mmengine.Config.fromfile(config_file)\n",
    "\n",
    "model_file = \"https://download.openmmlab.com/mmdetection/v3.0/rtmdet/rtmdet-ins_tiny_8xb32-300e_coco/rtmdet-ins_tiny_8xb32-300e_coco_20221130_151727-ec670f7e.pth\"\n",
    "\n",
    "print(f\"{config_file=}\")\n",
    "print(f\"{model_file=}\")\n",
    "\n",
    "!mkdir -p -m 777 model\n",
    "\n",
    "cfg.dump(osp.join(\"model\", osp.basename(config_file)))\n",
    "!wget -P model/ {model_file}\n",
    "\n",
    "!ls -lah model"
   ]
  },
  {
   "cell_type": "markdown",
   "metadata": {},
   "source": [
    "## Validate"
   ]
  },
  {
   "cell_type": "code",
   "execution_count": 2,
   "metadata": {},
   "outputs": [
    {
     "name": "stdout",
     "output_type": "stream",
     "text": [
      "Loads checkpoint by local backend from path: ./model/rtmdet-ins_tiny_8xb32-300e_coco_20221130_151727-ec670f7e.pth\n",
      "12/05 15:22:56 - mmengine - \u001b[5m\u001b[4m\u001b[33mWARNING\u001b[0m - Failed to search registry with scope \"mmdet\" in the \"function\" registry tree. As a workaround, the current \"function\" registry in \"mmengine\" is used to build instance. This may cause unexpected failure when running the built modules. Please check whether \"mmdet\" is a correct scope, or whether the registry is initialized.\n",
      "/home/mixaill76/.local/lib/python3.10/site-packages/mmengine/visualization/visualizer.py:196: UserWarning: Failed to add <class 'mmengine.visualization.vis_backend.LocalVisBackend'>, please provide the `save_dir` argument.\n",
      "  warnings.warn(f'Failed to add {vis_backend.__class__}, '\n",
      "loading annotations into memory...\n",
      "Done (t=0.32s)\n",
      "creating index...\n",
      "index created!\n",
      "loading annotations into memory...\n",
      "Done (t=0.38s)\n",
      "creating index...\n",
      "index created!\n",
      "  0%|                                                  | 0/5000 [00:00<?, ?it/s]/home/mixaill76/.local/lib/python3.10/site-packages/torch/nn/modules/conv.py:456: UserWarning: Applied workaround for CuDNN issue, install nvrtc.so (Triggered internally at ../aten/src/ATen/native/cudnn/Conv_v8.cpp:80.)\n",
      "  return F.conv2d(input, weight, bias, self.stride,\n",
      "/home/mixaill76/.local/lib/python3.10/site-packages/torch/functional.py:504: UserWarning: torch.meshgrid: in an upcoming release, it will be required to pass the indexing argument. (Triggered internally at ../aten/src/ATen/native/TensorShape.cpp:3526.)\n",
      "  return _VF.meshgrid(tensors, **kwargs)  # type: ignore[attr-defined]\n",
      "100%|███████████████████████████████████████| 5000/5000 [03:39<00:00, 22.74it/s]\n",
      "Evaluating bbox...\n",
      "Loading and preparing results...\n",
      "DONE (t=0.80s)\n",
      "creating index...\n",
      "index created!\n",
      "Running per image evaluation...\n",
      "Evaluate annotation type *bbox*\n",
      "DONE (t=15.93s).\n",
      "Accumulating evaluation results...\n",
      "DONE (t=3.68s).\n",
      "\n",
      " Average Precision  (AP) @[ IoU=0.50:0.95 | area=   all | maxDets=100 ] = 0.405\n",
      " Average Precision  (AP) @[ IoU=0.50      | area=   all | maxDets=100 ] = 0.576\n",
      " Average Precision  (AP) @[ IoU=0.75      | area=   all | maxDets=100 ] = 0.440\n",
      " Average Precision  (AP) @[ IoU=0.50:0.95 | area= small | maxDets=100 ] = 0.207\n",
      " Average Precision  (AP) @[ IoU=0.50:0.95 | area=medium | maxDets=100 ] = 0.446\n",
      " Average Precision  (AP) @[ IoU=0.50:0.95 | area= large | maxDets=100 ] = 0.578\n",
      " Average Recall     (AR) @[ IoU=0.50:0.95 | area=   all | maxDets=  1 ] = 0.332\n",
      " Average Recall     (AR) @[ IoU=0.50:0.95 | area=   all | maxDets= 10 ] = 0.540\n",
      " Average Recall     (AR) @[ IoU=0.50:0.95 | area=   all | maxDets=100 ] = 0.574\n",
      " Average Recall     (AR) @[ IoU=0.50:0.95 | area= small | maxDets=100 ] = 0.338\n",
      " Average Recall     (AR) @[ IoU=0.50:0.95 | area=medium | maxDets=100 ] = 0.638\n",
      " Average Recall     (AR) @[ IoU=0.50:0.95 | area= large | maxDets=100 ] = 0.765\n",
      "\n",
      "Evaluating segm...\n",
      "Loading and preparing results...\n",
      "DONE (t=1.57s)\n",
      "creating index...\n",
      "index created!\n",
      "Running per image evaluation...\n",
      "Evaluate annotation type *segm*\n",
      "DONE (t=18.35s).\n",
      "Accumulating evaluation results...\n",
      "DONE (t=3.67s).\n",
      "\n",
      " Average Precision  (AP) @[ IoU=0.50:0.95 | area=   all | maxDets=100 ] = 0.354\n",
      " Average Precision  (AP) @[ IoU=0.50      | area=   all | maxDets=100 ] = 0.551\n",
      " Average Precision  (AP) @[ IoU=0.75      | area=   all | maxDets=100 ] = 0.376\n",
      " Average Precision  (AP) @[ IoU=0.50:0.95 | area= small | maxDets=100 ] = 0.131\n",
      " Average Precision  (AP) @[ IoU=0.50:0.95 | area=medium | maxDets=100 ] = 0.383\n",
      " Average Precision  (AP) @[ IoU=0.50:0.95 | area= large | maxDets=100 ] = 0.566\n",
      " Average Recall     (AR) @[ IoU=0.50:0.95 | area=   all | maxDets=  1 ] = 0.302\n",
      " Average Recall     (AR) @[ IoU=0.50:0.95 | area=   all | maxDets= 10 ] = 0.473\n",
      " Average Recall     (AR) @[ IoU=0.50:0.95 | area=   all | maxDets=100 ] = 0.500\n",
      " Average Recall     (AR) @[ IoU=0.50:0.95 | area= small | maxDets=100 ] = 0.252\n",
      " Average Recall     (AR) @[ IoU=0.50:0.95 | area=medium | maxDets=100 ] = 0.567\n",
      " Average Recall     (AR) @[ IoU=0.50:0.95 | area= large | maxDets=100 ] = 0.716\n",
      "\n",
      "\n",
      "\u001b[3m                                bbox Results (%)                               \u001b[0m\n",
      "┏━━━━━━━━━━┳━━━━━━━━━━━━━┳━━━━━━━━━━━━━┳━━━━━━━━━━━━┳━━━━━━━━━━━━┳━━━━━━━━━━━━┓\n",
      "┃\u001b[1m \u001b[0m\u001b[1mbbox_mAP\u001b[0m\u001b[1m \u001b[0m┃\u001b[1m \u001b[0m\u001b[1mbbox_mAP_50\u001b[0m\u001b[1m \u001b[0m┃\u001b[1m \u001b[0m\u001b[1mbbox_mAP_75\u001b[0m\u001b[1m \u001b[0m┃\u001b[1m \u001b[0m\u001b[1mbbox_mAP_s\u001b[0m\u001b[1m \u001b[0m┃\u001b[1m \u001b[0m\u001b[1mbbox_mAP_m\u001b[0m\u001b[1m \u001b[0m┃\u001b[1m \u001b[0m\u001b[1mbbox_mAP_l\u001b[0m\u001b[1m \u001b[0m┃\n",
      "┡━━━━━━━━━━╇━━━━━━━━━━━━━╇━━━━━━━━━━━━━╇━━━━━━━━━━━━╇━━━━━━━━━━━━╇━━━━━━━━━━━━┩\n",
      "│ 40.49    │ 57.60       │ 43.96       │ 20.66      │ 44.64      │ 57.83      │\n",
      "└──────────┴─────────────┴─────────────┴────────────┴────────────┴────────────┘\n",
      "\n",
      "\n",
      "\u001b[3m                                segm Results (%)                               \u001b[0m\n",
      "┏━━━━━━━━━━┳━━━━━━━━━━━━━┳━━━━━━━━━━━━━┳━━━━━━━━━━━━┳━━━━━━━━━━━━┳━━━━━━━━━━━━┓\n",
      "┃\u001b[1m \u001b[0m\u001b[1msegm_mAP\u001b[0m\u001b[1m \u001b[0m┃\u001b[1m \u001b[0m\u001b[1msegm_mAP_50\u001b[0m\u001b[1m \u001b[0m┃\u001b[1m \u001b[0m\u001b[1msegm_mAP_75\u001b[0m\u001b[1m \u001b[0m┃\u001b[1m \u001b[0m\u001b[1msegm_mAP_s\u001b[0m\u001b[1m \u001b[0m┃\u001b[1m \u001b[0m\u001b[1msegm_mAP_m\u001b[0m\u001b[1m \u001b[0m┃\u001b[1m \u001b[0m\u001b[1msegm_mAP_l\u001b[0m\u001b[1m \u001b[0m┃\n",
      "┡━━━━━━━━━━╇━━━━━━━━━━━━━╇━━━━━━━━━━━━━╇━━━━━━━━━━━━╇━━━━━━━━━━━━╇━━━━━━━━━━━━┩\n",
      "│ 35.39    │ 55.10       │ 37.65       │ 13.06      │ 38.34      │ 56.64      │\n",
      "└──────────┴─────────────┴─────────────┴────────────┴────────────┴────────────┘\n",
      "\n",
      "coco_metric.compute() : 55.512\n",
      "Evaluating bbox...\n",
      "\n",
      "\n",
      "Evaluating segm...\n",
      "\n",
      "\n",
      "\n",
      "\u001b[3m                                bbox Results (%)                               \u001b[0m\n",
      "┏━━━━━━━━━━┳━━━━━━━━━━━━━┳━━━━━━━━━━━━━┳━━━━━━━━━━━━┳━━━━━━━━━━━━┳━━━━━━━━━━━━┓\n",
      "┃\u001b[1m \u001b[0m\u001b[1mbbox_mAP\u001b[0m\u001b[1m \u001b[0m┃\u001b[1m \u001b[0m\u001b[1mbbox_mAP_50\u001b[0m\u001b[1m \u001b[0m┃\u001b[1m \u001b[0m\u001b[1mbbox_mAP_75\u001b[0m\u001b[1m \u001b[0m┃\u001b[1m \u001b[0m\u001b[1mbbox_mAP_s\u001b[0m\u001b[1m \u001b[0m┃\u001b[1m \u001b[0m\u001b[1mbbox_mAP_m\u001b[0m\u001b[1m \u001b[0m┃\u001b[1m \u001b[0m\u001b[1mbbox_mAP_l\u001b[0m\u001b[1m \u001b[0m┃\n",
      "┡━━━━━━━━━━╇━━━━━━━━━━━━━╇━━━━━━━━━━━━━╇━━━━━━━━━━━━╇━━━━━━━━━━━━╇━━━━━━━━━━━━┩\n",
      "│ 40.49    │ 57.60       │ 43.96       │ 20.66      │ 44.64      │ 57.83      │\n",
      "└──────────┴─────────────┴─────────────┴────────────┴────────────┴────────────┘\n",
      "\n",
      "\n",
      "\u001b[3m                                segm Results (%)                               \u001b[0m\n",
      "┏━━━━━━━━━━┳━━━━━━━━━━━━━┳━━━━━━━━━━━━━┳━━━━━━━━━━━━┳━━━━━━━━━━━━┳━━━━━━━━━━━━┓\n",
      "┃\u001b[1m \u001b[0m\u001b[1msegm_mAP\u001b[0m\u001b[1m \u001b[0m┃\u001b[1m \u001b[0m\u001b[1msegm_mAP_50\u001b[0m\u001b[1m \u001b[0m┃\u001b[1m \u001b[0m\u001b[1msegm_mAP_75\u001b[0m\u001b[1m \u001b[0m┃\u001b[1m \u001b[0m\u001b[1msegm_mAP_s\u001b[0m\u001b[1m \u001b[0m┃\u001b[1m \u001b[0m\u001b[1msegm_mAP_m\u001b[0m\u001b[1m \u001b[0m┃\u001b[1m \u001b[0m\u001b[1msegm_mAP_l\u001b[0m\u001b[1m \u001b[0m┃\n",
      "┡━━━━━━━━━━╇━━━━━━━━━━━━━╇━━━━━━━━━━━━━╇━━━━━━━━━━━━╇━━━━━━━━━━━━╇━━━━━━━━━━━━┩\n",
      "│ 35.39    │ 55.10       │ 37.65       │ 13.06      │ 38.34      │ 56.64      │\n",
      "└──────────┴─────────────┴─────────────┴────────────┴────────────┴────────────┘\n",
      "\n",
      "faster_coco_metric.compute() : 27.748\n",
      "0.4998470015873722\n",
      "\n"
     ]
    }
   ],
   "source": [
    "!python3 mmdet_mmeval.py --load \"./model/rtmdet-ins_tiny_8xb32-300e_coco_20221130_151727-ec670f7e.pth\" --config \"./model/rtmdet-ins_tiny_8xb32-300e_coco.py\""
   ]
  }
 ],
 "metadata": {
  "kernelspec": {
   "display_name": "Python 3 (ipykernel)",
   "language": "python",
   "name": "python3"
  },
  "language_info": {
   "codemirror_mode": {
    "name": "ipython",
    "version": 3
   },
   "file_extension": ".py",
   "mimetype": "text/x-python",
   "name": "python",
   "nbconvert_exporter": "python",
   "pygments_lexer": "ipython3",
   "version": "3.10.12"
  }
 },
 "nbformat": 4,
 "nbformat_minor": 5
}
