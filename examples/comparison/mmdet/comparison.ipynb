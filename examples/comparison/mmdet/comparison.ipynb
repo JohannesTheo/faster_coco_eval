{
 "cells": [
  {
   "cell_type": "markdown",
   "metadata": {},
   "source": [
    "## Install MMDetection"
   ]
  },
  {
   "cell_type": "markdown",
   "metadata": {},
   "source": [
    "<https://mmdetection.readthedocs.io/en/latest/get_started.html>"
   ]
  },
  {
   "cell_type": "markdown",
   "metadata": {},
   "source": [
    "## Download COCO VAL"
   ]
  },
  {
   "cell_type": "code",
   "execution_count": 1,
   "id": "bc2a4389",
   "metadata": {},
   "outputs": [
    {
     "name": "stdout",
     "output_type": "stream",
     "text": [
      "--2024-04-13 21:58:23--  http://images.cocodataset.org/annotations/annotations_trainval2017.zip\n",
      "Resolving images.cocodataset.org (images.cocodataset.org)... 3.5.28.198, 3.5.25.88, 52.217.14.124, ...\n",
      "Connecting to images.cocodataset.org (images.cocodataset.org)|3.5.28.198|:80... connected.\n",
      "HTTP request sent, awaiting response... 200 OK\n",
      "Length: 252907541 (241M) [application/zip]\n",
      "Saving to: ‘COCO/DIR/annotations_trainval2017.zip’\n",
      "\n",
      "annotations_trainva 100%[===================>] 241.19M  14.9MB/s    in 26s     \n",
      "\n",
      "2024-04-13 21:58:50 (9.27 MB/s) - ‘COCO/DIR/annotations_trainval2017.zip’ saved [252907541/252907541]\n",
      "\n",
      "--2024-04-13 21:58:50--  http://images.cocodataset.org/zips/val2017.zip\n",
      "Resolving images.cocodataset.org (images.cocodataset.org)... 3.5.29.24, 52.216.52.249, 3.5.29.27, ...\n",
      "Connecting to images.cocodataset.org (images.cocodataset.org)|3.5.29.24|:80... connected.\n",
      "HTTP request sent, awaiting response... 200 OK\n",
      "Length: 815585330 (778M) [application/zip]\n",
      "Saving to: ‘COCO/DIR/val2017.zip’\n",
      "\n",
      "val2017.zip         100%[===================>] 777.80M  13.2MB/s    in 67s     \n",
      "\n",
      "2024-04-13 21:59:58 (11.6 MB/s) - ‘COCO/DIR/val2017.zip’ saved [815585330/815585330]\n",
      "\n"
     ]
    }
   ],
   "source": [
    "!wget -P COCO/DIR/ http://images.cocodataset.org/annotations/annotations_trainval2017.zip\n",
    "\n",
    "!wget -P COCO/DIR/ http://images.cocodataset.org/zips/val2017.zip"
   ]
  },
  {
   "cell_type": "markdown",
   "id": "1b94cb3d",
   "metadata": {},
   "source": [
    "## Unzip COCO VAL"
   ]
  },
  {
   "cell_type": "code",
   "execution_count": 2,
   "id": "94d9a6c0",
   "metadata": {},
   "outputs": [],
   "source": [
    "!unzip -qq COCO/DIR/annotations_trainval2017.zip -d COCO/DIR/"
   ]
  },
  {
   "cell_type": "code",
   "execution_count": 3,
   "id": "c266f572",
   "metadata": {},
   "outputs": [],
   "source": [
    "!unzip -qq COCO/DIR/val2017.zip -d COCO/DIR/"
   ]
  },
  {
   "cell_type": "markdown",
   "id": "ee83ac7b",
   "metadata": {},
   "source": [
    "## Download model"
   ]
  },
  {
   "cell_type": "code",
   "execution_count": 4,
   "id": "b6f6860f",
   "metadata": {},
   "outputs": [
    {
     "name": "stdout",
     "output_type": "stream",
     "text": [
      "config_file='/home/mixaill76/.local/lib/python3.10/site-packages/mmdet/.mim/configs/rtmdet/rtmdet-ins_tiny_8xb32-300e_coco.py'\n",
      "model_file='https://download.openmmlab.com/mmdetection/v3.0/rtmdet/rtmdet-ins_tiny_8xb32-300e_coco/rtmdet-ins_tiny_8xb32-300e_coco_20221130_151727-ec670f7e.pth'\n",
      "--2024-04-13 22:13:51--  https://download.openmmlab.com/mmdetection/v3.0/rtmdet/rtmdet-ins_tiny_8xb32-300e_coco/rtmdet-ins_tiny_8xb32-300e_coco_20221130_151727-ec670f7e.pth\n",
      "Resolving download.openmmlab.com (download.openmmlab.com)... 104.166.182.22, 104.166.182.24, 104.166.182.27, ...\n",
      "Connecting to download.openmmlab.com (download.openmmlab.com)|104.166.182.22|:443... connected.\n",
      "HTTP request sent, awaiting response... 200 OK\n",
      "Length: 22757492 (22M) [application/octet-stream]\n",
      "Saving to: ‘model/rtmdet-ins_tiny_8xb32-300e_coco_20221130_151727-ec670f7e.pth’\n",
      "\n",
      "rtmdet-ins_tiny_8xb 100%[===================>]  21.70M  6.14MB/s    in 4.2s    \n",
      "\n",
      "2024-04-13 22:13:57 (5.21 MB/s) - ‘model/rtmdet-ins_tiny_8xb32-300e_coco_20221130_151727-ec670f7e.pth’ saved [22757492/22757492]\n",
      "\n",
      "total 22M\n",
      "drwxrwxrwx 2 mixaill76 mixaill76 4.0K Apr 13 22:13 .\n",
      "drwxr-xr-x 4 mixaill76 mixaill76 4.0K Apr 13 22:13 ..\n",
      "-rw-r--r-- 1 mixaill76 mixaill76  16K Apr 13 22:13 rtmdet-ins_tiny_8xb32-300e_coco.py\n",
      "-rw-r--r-- 1 mixaill76 mixaill76  22M Dec 19  2022 rtmdet-ins_tiny_8xb32-300e_coco_20221130_151727-ec670f7e.pth\n"
     ]
    }
   ],
   "source": [
    "import mmdet\n",
    "import mmengine\n",
    "import os\n",
    "import os.path as osp\n",
    "\n",
    "config_dir = osp.dirname(mmdet.__file__)\n",
    "sub_config = \"configs/rtmdet/rtmdet-ins_tiny_8xb32-300e_coco.py\"\n",
    "config_file = osp.join(config_dir, \".mim\", sub_config)\n",
    "cfg = mmengine.Config.fromfile(config_file)\n",
    "\n",
    "model_file = \"https://download.openmmlab.com/mmdetection/v3.0/rtmdet/rtmdet-ins_tiny_8xb32-300e_coco/rtmdet-ins_tiny_8xb32-300e_coco_20221130_151727-ec670f7e.pth\"\n",
    "\n",
    "print(f\"{config_file=}\")\n",
    "print(f\"{model_file=}\")\n",
    "\n",
    "!mkdir -p -m 777 model\n",
    "\n",
    "cfg.dump(osp.join(\"model\", osp.basename(config_file)))\n",
    "!wget -P model/ {model_file}\n",
    "\n",
    "!ls -lah model"
   ]
  },
  {
   "cell_type": "markdown",
   "id": "313f1978",
   "metadata": {},
   "source": [
    "## Validate"
   ]
  },
  {
   "cell_type": "code",
   "execution_count": 1,
   "id": "eebcff84",
   "metadata": {},
   "outputs": [],
   "source": [
    "from mmdet.apis import inference_detector, init_detector\n",
    "from mmengine.registry import init_default_scope\n",
    "from mmdet.datasets import CocoDataset\n",
    "import tqdm\n",
    "import copy\n",
    "import pickle\n",
    "from coco_metric import CocoMetric"
   ]
  },
  {
   "cell_type": "code",
   "execution_count": 2,
   "id": "c2f5fedd",
   "metadata": {},
   "outputs": [],
   "source": [
    "init_default_scope(\"mmdet\")"
   ]
  },
  {
   "cell_type": "code",
   "execution_count": 3,
   "id": "1318e70c",
   "metadata": {},
   "outputs": [
    {
     "name": "stdout",
     "output_type": "stream",
     "text": [
      "Loads checkpoint by local backend from path: ./model/rtmdet-ins_tiny_8xb32-300e_coco_20221130_151727-ec670f7e.pth\n"
     ]
    }
   ],
   "source": [
    "model = init_detector(\n",
    "    \"./model/rtmdet-ins_tiny_8xb32-300e_coco.py\",\n",
    "    \"./model/rtmdet-ins_tiny_8xb32-300e_coco_20221130_151727-ec670f7e.pth\",\n",
    "    device=\"cuda\",\n",
    ")"
   ]
  },
  {
   "cell_type": "code",
   "execution_count": 4,
   "id": "1f7878d1",
   "metadata": {},
   "outputs": [
    {
     "name": "stdout",
     "output_type": "stream",
     "text": [
      "loading annotations into memory...\n",
      "Done (t=0.45s)\n",
      "creating index...\n",
      "index created!\n"
     ]
    },
    {
     "data": {
      "text/plain": [
       "5000"
      ]
     },
     "execution_count": 4,
     "metadata": {},
     "output_type": "execute_result"
    }
   ],
   "source": [
    "pipeline = [\n",
    "    dict(type=\"LoadImageFromFile\"),\n",
    "    dict(type=\"mmdet.LoadAnnotations\", with_bbox=True),\n",
    "    dict(\n",
    "        type=\"mmdet.PackDetInputs\",\n",
    "        meta_keys=(\n",
    "            \"img\",\n",
    "            \"img_id\",\n",
    "            \"img_path\",\n",
    "            \"ori_shape\",\n",
    "            \"img_shape\",\n",
    "            \"instances\",\n",
    "        ),\n",
    "    ),\n",
    "]\n",
    "\n",
    "dataset = CocoDataset(\n",
    "    data_root=\"./COCO/DIR/\",\n",
    "    ann_file=\"annotations/instances_val2017.json\",\n",
    "    data_prefix=dict(img=\"val2017/\"),\n",
    "    pipeline=pipeline,\n",
    ")\n",
    "len(dataset)"
   ]
  },
  {
   "cell_type": "code",
   "execution_count": 5,
   "id": "24d1832a",
   "metadata": {},
   "outputs": [
    {
     "name": "stderr",
     "output_type": "stream",
     "text": [
      "  0%|          | 0/500 [00:00<?, ?it/s]/home/mixaill76/.local/lib/python3.10/site-packages/torch/nn/modules/conv.py:456: UserWarning: Applied workaround for CuDNN issue, install nvrtc.so (Triggered internally at ../aten/src/ATen/native/cudnn/Conv_v8.cpp:80.)\n",
      "  return F.conv2d(input, weight, bias, self.stride,\n",
      "/home/mixaill76/.local/lib/python3.10/site-packages/torch/functional.py:504: UserWarning: torch.meshgrid: in an upcoming release, it will be required to pass the indexing argument. (Triggered internally at ../aten/src/ATen/native/TensorShape.cpp:3526.)\n",
      "  return _VF.meshgrid(tensors, **kwargs)  # type: ignore[attr-defined]\n",
      "100%|██████████| 500/500 [00:17<00:00, 29.16it/s]\n"
     ]
    }
   ],
   "source": [
    "data_samples = []\n",
    "\n",
    "for i in tqdm.tqdm(range(500)):\n",
    "    item = dataset[i]\n",
    "    data_sample = item[\"data_samples\"]\n",
    "\n",
    "    img = data_sample.img\n",
    "    result = inference_detector(model, img)\n",
    "\n",
    "    for key in result.pred_instances.all_keys():\n",
    "        result.pred_instances[key] = result.pred_instances[key].detach().cpu()\n",
    "\n",
    "    for bad_key in set(result.pred_instances.all_keys()) - {\n",
    "        \"masks\",\n",
    "        \"scores\",\n",
    "        \"labels\",\n",
    "        \"bboxes\",\n",
    "    }:\n",
    "        del result.pred_instances[bad_key]\n",
    "\n",
    "    data_sample.pred_instances = result.pred_instances\n",
    "\n",
    "    data_samples.append(data_sample.to_dict())"
   ]
  },
  {
   "cell_type": "markdown",
   "id": "98376574",
   "metadata": {},
   "source": [
    "## Generate tmp results"
   ]
  },
  {
   "cell_type": "code",
   "execution_count": 6,
   "id": "63adfed7",
   "metadata": {},
   "outputs": [],
   "source": [
    "metric = CocoMetric(metric=\"bbox\")\n",
    "metric.dataset_meta = model.dataset_meta\n",
    "metric.process({}, data_samples)\n",
    "tmp_results = copy.deepcopy(metric.results)"
   ]
  },
  {
   "cell_type": "code",
   "execution_count": 7,
   "id": "c1bd202b",
   "metadata": {},
   "outputs": [],
   "source": [
    "with open(\"COCO/tmp_results.pkl\", \"wb\") as fd:\n",
    "    pickle.dump(tmp_results, fd)\n",
    "\n",
    "with open(\"COCO/dataset_meta.pkl\", \"wb\") as fd:\n",
    "    pickle.dump(model.dataset_meta, fd)"
   ]
  },
  {
   "cell_type": "markdown",
   "id": "50207c98",
   "metadata": {},
   "source": [
    "## Test basic bbox pycocotools"
   ]
  },
  {
   "cell_type": "code",
   "execution_count": 8,
   "id": "0782d702",
   "metadata": {},
   "outputs": [
    {
     "name": "stdout",
     "output_type": "stream",
     "text": [
      "Namespace(tmp_results='COCO/tmp_results.pkl', dataset_meta='COCO/dataset_meta.pkl', metric='bbox', use_faster=False)\n",
      "04/13 23:25:20 - mmengine - \u001b[4m\u001b[97mINFO\u001b[0m - Converting ground truth to coco format...\n",
      "loading annotations into memory...\n",
      "Done (t=0.02s)\n",
      "creating index...\n",
      "index created!\n",
      "04/13 23:25:21 - mmengine - \u001b[4m\u001b[97mINFO\u001b[0m - Evaluating bbox...\n",
      "Loading and preparing results...\n",
      "DONE (t=0.02s)\n",
      "creating index...\n",
      "index created!\n",
      "Running per image evaluation...\n",
      "Evaluate annotation type *bbox*\n",
      "DONE (t=1.72s).\n",
      "Accumulating evaluation results...\n",
      "DONE (t=0.61s).\n",
      " Average Precision  (AP) @[ IoU=0.50:0.95 | area=   all | maxDets=100 ] = 0.452\n",
      " Average Precision  (AP) @[ IoU=0.50      | area=   all | maxDets=1000 ] = 0.631\n",
      " Average Precision  (AP) @[ IoU=0.75      | area=   all | maxDets=1000 ] = 0.492\n",
      " Average Precision  (AP) @[ IoU=0.50:0.95 | area= small | maxDets=1000 ] = 0.200\n",
      " Average Precision  (AP) @[ IoU=0.50:0.95 | area=medium | maxDets=1000 ] = 0.452\n",
      " Average Precision  (AP) @[ IoU=0.50:0.95 | area= large | maxDets=1000 ] = 0.594\n",
      " Average Recall     (AR) @[ IoU=0.50:0.95 | area=   all | maxDets=100 ] = 0.609\n",
      " Average Recall     (AR) @[ IoU=0.50:0.95 | area=   all | maxDets=300 ] = 0.609\n",
      " Average Recall     (AR) @[ IoU=0.50:0.95 | area=   all | maxDets=1000 ] = 0.609\n",
      " Average Recall     (AR) @[ IoU=0.50:0.95 | area= small | maxDets=1000 ] = 0.335\n",
      " Average Recall     (AR) @[ IoU=0.50:0.95 | area=medium | maxDets=1000 ] = 0.623\n",
      " Average Recall     (AR) @[ IoU=0.50:0.95 | area= large | maxDets=1000 ] = 0.738\n",
      "04/13 23:25:24 - mmengine - \u001b[4m\u001b[97mINFO\u001b[0m - bbox_mAP_copypaste: 0.452 0.631 0.492 0.200 0.452 0.594\n",
      "Total evaluate: 3.57s\n"
     ]
    }
   ],
   "source": [
    "!python3 coco_metric.py 'COCO/tmp_results.pkl' 'COCO/dataset_meta.pkl' --metric \"bbox\""
   ]
  },
  {
   "cell_type": "markdown",
   "id": "ba8c9c65",
   "metadata": {},
   "source": [
    "## Test bbox with Faster Coco Eval"
   ]
  },
  {
   "cell_type": "code",
   "execution_count": 9,
   "id": "c3febd51",
   "metadata": {},
   "outputs": [
    {
     "name": "stdout",
     "output_type": "stream",
     "text": [
      "Namespace(tmp_results='COCO/tmp_results.pkl', dataset_meta='COCO/dataset_meta.pkl', metric='bbox', use_faster=True)\n",
      "04/13 23:25:29 - mmengine - \u001b[4m\u001b[97mINFO\u001b[0m - Converting ground truth to coco format...\n",
      "04/13 23:25:30 - mmengine - \u001b[4m\u001b[97mINFO\u001b[0m - Evaluating bbox...\n",
      "Evaluate annotation type *bbox*\n",
      "COCOeval_opt.evaluate() finished...\n",
      "DONE (t=0.59s).\n",
      "Accumulating evaluation results...\n",
      "COCOeval_opt.accumulate() finished...\n",
      "DONE (t=0.15s).\n",
      " Average Precision  (AP) @[ IoU=0.50:0.95 | area=   all | maxDets=1000 ] = 0.452\n",
      " Average Precision  (AP) @[ IoU=0.50      | area=   all | maxDets=1000 ] = 0.631\n",
      " Average Precision  (AP) @[ IoU=0.75      | area=   all | maxDets=1000 ] = 0.492\n",
      " Average Precision  (AP) @[ IoU=0.50:0.95 | area= small | maxDets=1000 ] = 0.200\n",
      " Average Precision  (AP) @[ IoU=0.50:0.95 | area=medium | maxDets=1000 ] = 0.452\n",
      " Average Precision  (AP) @[ IoU=0.50:0.95 | area= large | maxDets=1000 ] = 0.594\n",
      " Average Recall     (AR) @[ IoU=0.50:0.95 | area=   all | maxDets=100 ] = 0.609\n",
      " Average Recall     (AR) @[ IoU=0.50:0.95 | area=   all | maxDets=300 ] = 0.609\n",
      " Average Recall     (AR) @[ IoU=0.50:0.95 | area=   all | maxDets=1000 ] = 0.609\n",
      " Average Recall     (AR) @[ IoU=0.50:0.95 | area= small | maxDets=1000 ] = 0.335\n",
      " Average Recall     (AR) @[ IoU=0.50:0.95 | area=medium | maxDets=1000 ] = 0.623\n",
      " Average Recall     (AR) @[ IoU=0.50:0.95 | area= large | maxDets=1000 ] = 0.738\n",
      " Average Recall     (AR) @[ IoU=0.50      | area=   all | maxDets=1000 ] = 0.840\n",
      " Average Recall     (AR) @[ IoU=0.75      | area=   all | maxDets=1000 ] = 0.660\n",
      "04/13 23:25:31 - mmengine - \u001b[4m\u001b[97mINFO\u001b[0m - bbox_mAP_copypaste: 0.452 0.631 0.492 0.200 0.452 0.594\n",
      "Total evaluate: 2.03s\n"
     ]
    }
   ],
   "source": [
    "!python3 coco_metric.py 'COCO/tmp_results.pkl' 'COCO/dataset_meta.pkl' --metric \"bbox\" --use_faster"
   ]
  },
  {
   "cell_type": "markdown",
   "id": "27858d28",
   "metadata": {},
   "source": [
    "## Test basic segm pycocotools"
   ]
  },
  {
   "cell_type": "code",
   "execution_count": 10,
   "id": "b9d73bf0",
   "metadata": {},
   "outputs": [
    {
     "name": "stdout",
     "output_type": "stream",
     "text": [
      "Namespace(tmp_results='COCO/tmp_results.pkl', dataset_meta='COCO/dataset_meta.pkl', metric='segm', use_faster=False)\n",
      "04/13 23:25:39 - mmengine - \u001b[4m\u001b[97mINFO\u001b[0m - Converting ground truth to coco format...\n",
      "loading annotations into memory...\n",
      "Done (t=0.02s)\n",
      "creating index...\n",
      "index created!\n",
      "04/13 23:25:40 - mmengine - \u001b[4m\u001b[97mINFO\u001b[0m - Evaluating segm...\n",
      "Loading and preparing results...\n",
      "DONE (t=0.18s)\n",
      "creating index...\n",
      "index created!\n",
      "Running per image evaluation...\n",
      "Evaluate annotation type *segm*\n",
      "DONE (t=2.07s).\n",
      "Accumulating evaluation results...\n",
      "DONE (t=0.61s).\n",
      " Average Precision  (AP) @[ IoU=0.50:0.95 | area=   all | maxDets=100 ] = 0.391\n",
      " Average Precision  (AP) @[ IoU=0.50      | area=   all | maxDets=1000 ] = 0.601\n",
      " Average Precision  (AP) @[ IoU=0.75      | area=   all | maxDets=1000 ] = 0.423\n",
      " Average Precision  (AP) @[ IoU=0.50:0.95 | area= small | maxDets=1000 ] = 0.133\n",
      " Average Precision  (AP) @[ IoU=0.50:0.95 | area=medium | maxDets=1000 ] = 0.377\n",
      " Average Precision  (AP) @[ IoU=0.50:0.95 | area= large | maxDets=1000 ] = 0.553\n",
      " Average Recall     (AR) @[ IoU=0.50:0.95 | area=   all | maxDets=100 ] = 0.524\n",
      " Average Recall     (AR) @[ IoU=0.50:0.95 | area=   all | maxDets=300 ] = 0.524\n",
      " Average Recall     (AR) @[ IoU=0.50:0.95 | area=   all | maxDets=1000 ] = 0.524\n",
      " Average Recall     (AR) @[ IoU=0.50:0.95 | area= small | maxDets=1000 ] = 0.258\n",
      " Average Recall     (AR) @[ IoU=0.50:0.95 | area=medium | maxDets=1000 ] = 0.531\n",
      " Average Recall     (AR) @[ IoU=0.50:0.95 | area= large | maxDets=1000 ] = 0.659\n",
      "04/13 23:25:43 - mmengine - \u001b[4m\u001b[97mINFO\u001b[0m - segm_mAP_copypaste: 0.391 0.601 0.423 0.133 0.377 0.553\n",
      "Total evaluate: 4.16s\n"
     ]
    }
   ],
   "source": [
    "!python3 coco_metric.py 'COCO/tmp_results.pkl' 'COCO/dataset_meta.pkl' --metric \"segm\""
   ]
  },
  {
   "cell_type": "markdown",
   "id": "62051d38",
   "metadata": {},
   "source": [
    "## Test segm with Faster Coco Eval"
   ]
  },
  {
   "cell_type": "code",
   "execution_count": 11,
   "id": "e373e750",
   "metadata": {},
   "outputs": [
    {
     "name": "stdout",
     "output_type": "stream",
     "text": [
      "Namespace(tmp_results='COCO/tmp_results.pkl', dataset_meta='COCO/dataset_meta.pkl', metric='segm', use_faster=True)\n",
      "04/13 23:25:48 - mmengine - \u001b[4m\u001b[97mINFO\u001b[0m - Converting ground truth to coco format...\n",
      "04/13 23:25:48 - mmengine - \u001b[4m\u001b[97mINFO\u001b[0m - Evaluating segm...\n",
      "Evaluate annotation type *segm*\n",
      "COCOeval_opt.evaluate() finished...\n",
      "DONE (t=0.76s).\n",
      "Accumulating evaluation results...\n",
      "COCOeval_opt.accumulate() finished...\n",
      "DONE (t=0.15s).\n",
      " Average Precision  (AP) @[ IoU=0.50:0.95 | area=   all | maxDets=1000 ] = 0.391\n",
      " Average Precision  (AP) @[ IoU=0.50      | area=   all | maxDets=1000 ] = 0.601\n",
      " Average Precision  (AP) @[ IoU=0.75      | area=   all | maxDets=1000 ] = 0.423\n",
      " Average Precision  (AP) @[ IoU=0.50:0.95 | area= small | maxDets=1000 ] = 0.133\n",
      " Average Precision  (AP) @[ IoU=0.50:0.95 | area=medium | maxDets=1000 ] = 0.377\n",
      " Average Precision  (AP) @[ IoU=0.50:0.95 | area= large | maxDets=1000 ] = 0.553\n",
      " Average Recall     (AR) @[ IoU=0.50:0.95 | area=   all | maxDets=100 ] = 0.524\n",
      " Average Recall     (AR) @[ IoU=0.50:0.95 | area=   all | maxDets=300 ] = 0.524\n",
      " Average Recall     (AR) @[ IoU=0.50:0.95 | area=   all | maxDets=1000 ] = 0.524\n",
      " Average Recall     (AR) @[ IoU=0.50:0.95 | area= small | maxDets=1000 ] = 0.258\n",
      " Average Recall     (AR) @[ IoU=0.50:0.95 | area=medium | maxDets=1000 ] = 0.531\n",
      " Average Recall     (AR) @[ IoU=0.50:0.95 | area= large | maxDets=1000 ] = 0.659\n",
      " Average Recall     (AR) @[ IoU=0.50      | area=   all | maxDets=1000 ] = 0.799\n",
      " Average Recall     (AR) @[ IoU=0.75      | area=   all | maxDets=1000 ] = 0.560\n",
      "04/13 23:25:50 - mmengine - \u001b[4m\u001b[97mINFO\u001b[0m - segm_mAP_copypaste: 0.391 0.601 0.423 0.133 0.377 0.553\n",
      "Total evaluate: 2.41s\n"
     ]
    }
   ],
   "source": [
    "!python3 coco_metric.py 'COCO/tmp_results.pkl' 'COCO/dataset_meta.pkl' --metric \"segm\" --use_faster"
   ]
  },
  {
   "cell_type": "markdown",
   "id": "922d0220",
   "metadata": {},
   "source": [
    "## Summary for 500 imgs\n",
    "\n",
    "| Type | COCOeval    | COCOeval_faster | Profit      |\n",
    "| ---- | ----------- | --------------- | ----------- |\n",
    "| bbox | 3.57s | 2.03s      | ~1.7x faster |\n",
    "| segm | 4.16s | 2.41s     | ~1.7x faster   |\n"
   ]
  }
 ],
 "metadata": {
  "kernelspec": {
   "display_name": "Python 3 (ipykernel)",
   "language": "python",
   "name": "python3"
  },
  "language_info": {
   "codemirror_mode": {
    "name": "ipython",
    "version": 3
   },
   "file_extension": ".py",
   "mimetype": "text/x-python",
   "name": "python",
   "nbconvert_exporter": "python",
   "pygments_lexer": "ipython3",
   "version": "3.10.12"
  }
 },
 "nbformat": 4,
 "nbformat_minor": 5
}
