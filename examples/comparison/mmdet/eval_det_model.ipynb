{
 "cells": [
  {
   "cell_type": "code",
   "execution_count": null,
   "id": "2ed95f83-e863-4b7a-a951-85f667d4f082",
   "metadata": {
    "tags": []
   },
   "outputs": [],
   "source": [
    "import sys\n",
    "import os\n",
    "\n",
    "sys.path.append(\"../../../mmlab_utils/\")"
   ]
  },
  {
   "cell_type": "code",
   "execution_count": null,
   "id": "28769596-7530-45be-be13-9f4adb51115c",
   "metadata": {
    "tags": []
   },
   "outputs": [],
   "source": [
    "import logging\n",
    "\n",
    "logging.basicConfig(level=logging.ERROR)"
   ]
  },
  {
   "cell_type": "code",
   "execution_count": null,
   "id": "7bccfaf9-709e-4996-92f3-a8d8dd175d0f",
   "metadata": {
    "tags": []
   },
   "outputs": [],
   "source": [
    "from mmengine.registry import init_default_scope\n",
    "\n",
    "init_default_scope(\"mmdet\")"
   ]
  },
  {
   "cell_type": "code",
   "execution_count": null,
   "id": "9bb11abe-e52d-43db-8721-72fb026ec8d8",
   "metadata": {
    "tags": []
   },
   "outputs": [],
   "source": [
    "from collections import defaultdict\n",
    "import torch\n",
    "from shapely.geometry import Polygon\n",
    "from tqdm import tqdm\n",
    "from mmlab_utils.mmdet_utils import Coco2Dataset\n",
    "from mmlab_utils.mmdet_utils.apis.base_loader import BasePredictor\n",
    "from mmlab_utils.mmdet_utils.apis.base_loader import find_last_model"
   ]
  },
  {
   "cell_type": "code",
   "execution_count": null,
   "id": "9f1a82a7-a959-4da0-9b7b-e0955de3f9df",
   "metadata": {
    "tags": []
   },
   "outputs": [],
   "source": [
    "model_folder = \"/data/projects/yolov8_v1/YOLOV8_v1_scale_640/\"\n",
    "\n",
    "config_file, checkpoint = find_last_model(model_folder)\n",
    "\n",
    "print(f\"{config_file=}\")\n",
    "print(f\"{checkpoint=}\")"
   ]
  },
  {
   "cell_type": "code",
   "execution_count": null,
   "id": "d42cea46-135a-4b90-b20d-2e22dc855d10",
   "metadata": {
    "tags": []
   },
   "outputs": [],
   "source": [
    "detector = BasePredictor(model_folder, min_score=0.7, use_cpu=False)\n",
    "detector"
   ]
  },
  {
   "cell_type": "code",
   "execution_count": null,
   "id": "c437316e-9510-464f-89a0-7a54cb661388",
   "metadata": {
    "tags": []
   },
   "outputs": [],
   "source": [
    "pipeline = [\n",
    "    dict(type=\"LoadImageFromFile\"),\n",
    "    dict(type=\"mmdet.LoadAnnotations\", with_bbox=True),\n",
    "    dict(\n",
    "        type=\"mmdet.PackDetInputs\",\n",
    "        meta_keys=(\n",
    "            \"img\",\n",
    "            \"img_id\",\n",
    "            \"img_path\",\n",
    "            \"ori_shape\",\n",
    "            \"img_shape\",\n",
    "            \"instances\",\n",
    "        ),\n",
    "    ),\n",
    "]\n",
    "\n",
    "dataset = Coco2Dataset(\n",
    "    \"../det_stones/dataset/test/\",\n",
    "    classes=detector.inference_model.inference_model.dataset_meta[\"classes\"],\n",
    "    pipeline=pipeline,\n",
    "    # MAX_SIZE=detector.MAX_SIZE[0]\n",
    ")\n",
    "\n",
    "len(dataset)"
   ]
  },
  {
   "cell_type": "code",
   "execution_count": null,
   "id": "1eb68540-648b-4e48-9980-c9f9eae54188",
   "metadata": {},
   "outputs": [],
   "source": [
    "data_samples = []\n",
    "\n",
    "for i, item in tqdm(enumerate(dataset)):\n",
    "    data_sample = item[\"data_samples\"]\n",
    "\n",
    "    img = data_sample.img\n",
    "\n",
    "    _result_v3 = detector.inference_model.inference_detector([img])[0]\n",
    "    data_sample.pred_instances = _result_v3.pred_instances\n",
    "\n",
    "    data_samples.append(data_sample.to_dict())"
   ]
  },
  {
   "cell_type": "code",
   "execution_count": null,
   "id": "5756249c-8a93-4442-a6b1-ac60723701ff",
   "metadata": {
    "tags": []
   },
   "outputs": [],
   "source": [
    "from mmlab_utils.mmdet_utils.evaluation import FasterCocoMetric\n",
    "import numpy as np\n",
    "\n",
    "iou_thrs = np.linspace(\n",
    "    0.2, 0.95, int(np.round((0.95 - 0.5) / 0.05)) + 1, endpoint=True\n",
    ").round(2)\n",
    "\n",
    "metric = FasterCocoMetric(\n",
    "    metric=\"segm\" if detector.mask_model else \"bbox\",\n",
    "    classwise=True,\n",
    "    iou_thrs=iou_thrs,\n",
    ")"
   ]
  },
  {
   "cell_type": "code",
   "execution_count": null,
   "id": "4f87ea6f-cd81-4c0d-82a3-8e9f2c202c70",
   "metadata": {
    "tags": []
   },
   "outputs": [],
   "source": [
    "metric.dataset_meta = detector.inference_model.inference_model.dataset_meta"
   ]
  },
  {
   "cell_type": "code",
   "execution_count": null,
   "id": "22ea3ca3-8bf7-43e3-b11e-279edab59c68",
   "metadata": {
    "tags": []
   },
   "outputs": [],
   "source": [
    "metric.process({}, data_samples)"
   ]
  },
  {
   "cell_type": "code",
   "execution_count": null,
   "id": "1017c6cb-9716-476a-a315-b9a8e8a813d3",
   "metadata": {
    "tags": []
   },
   "outputs": [],
   "source": [
    "metrics_dict = metric.evaluate(len(data_samples))"
   ]
  },
  {
   "cell_type": "code",
   "execution_count": null,
   "id": "b4512cd6-4113-44a4-ab87-a76e4a26eb0d",
   "metadata": {},
   "outputs": [],
   "source": []
  }
 ],
 "metadata": {
  "kernelspec": {
   "display_name": "Python 3 (ipykernel)",
   "language": "python",
   "name": "python3"
  },
  "language_info": {
   "codemirror_mode": {
    "name": "ipython",
    "version": 3
   },
   "file_extension": ".py",
   "mimetype": "text/x-python",
   "name": "python",
   "nbconvert_exporter": "python",
   "pygments_lexer": "ipython3",
   "version": "3.10.12"
  }
 },
 "nbformat": 4,
 "nbformat_minor": 5
}
